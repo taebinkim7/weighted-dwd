{
 "cells": [
  {
   "cell_type": "markdown",
   "metadata": {},
   "source": [
    "This notebook shows some of the basic functionality of the DWD package including\n",
    "\n",
    "- linear DWD (original SOCP formulation)\n",
    "- gernalized DWD (gDWD)\n",
    "- kernel gDWD\n",
    "- faster cross-validation for gDWD\n",
    "- multi-label classification"
   ]
  },
  {
   "cell_type": "markdown",
   "metadata": {},
   "source": [
    "# sample sythetic training data"
   ]
  },
  {
   "cell_type": "code",
   "execution_count": 1,
   "metadata": {},
   "outputs": [],
   "source": [
    "import numpy as np\n",
    "from sklearn.datasets import make_blobs\n",
    "    \n",
    "n_samples=100\n",
    "sep = 2\n",
    "n_features = 20\n",
    "class_centers=[np.zeros(n_features),\n",
    "               sep * np.ones(n_features) / np.sqrt(n_features)]\n",
    "\n",
    "X, y = make_blobs(n_samples=100, n_features=20, centers=class_centers,\n",
    "                  random_state=0)"
   ]
  },
  {
   "cell_type": "markdown",
   "metadata": {},
   "source": [
    "# original DWD (SOCP formulation)\n",
    "\n",
    "Notice the tuning parameter is C."
   ]
  },
  {
   "cell_type": "code",
   "execution_count": 2,
   "metadata": {},
   "outputs": [
    {
     "name": "stdout",
     "output_type": "stream",
     "text": [
      "training accuracy: 0.91\n"
     ]
    }
   ],
   "source": [
    "from dwd import DWD\n",
    "dwd = DWD(C=.1).fit(X, y)\n",
    "\n",
    "print('training accuracy:', dwd.score(X, y))"
   ]
  },
  {
   "cell_type": "markdown",
   "metadata": {},
   "source": [
    "### tuning with sklearn"
   ]
  },
  {
   "cell_type": "code",
   "execution_count": 3,
   "metadata": {},
   "outputs": [
    {
     "data": {
      "text/plain": [
       "GridSearchCV(cv=5, error_score='raise-deprecating',\n",
       "             estimator=DWD(C=0.1, solver_kws={}), iid='warn', n_jobs=-1,\n",
       "             param_grid={'C': array([1.00000000e-05, 3.35981829e-05, 1.12883789e-04, 3.79269019e-04,\n",
       "       1.27427499e-03, 4.28133240e-03, 1.43844989e-02, 4.83293024e-02,\n",
       "       1.62377674e-01, 5.45559478e-01, 1.83298071e+00, 6.15848211e+00,\n",
       "       2.06913808e+01, 6.95192796e+01, 2.33572147e+02, 7.84759970e+02,\n",
       "       2.63665090e+03, 8.85866790e+03, 2.97635144e+04, 1.00000000e+05])},\n",
       "             pre_dispatch='2*n_jobs', refit=True, return_train_score=True,\n",
       "             scoring=None, verbose=0)"
      ]
     },
     "execution_count": 3,
     "metadata": {},
     "output_type": "execute_result"
    }
   ],
   "source": [
    "from sklearn.model_selection import GridSearchCV\n",
    "\n",
    "# do cross validation using Sklearn's grid search.\n",
    "C_vals = np.logspace(-5, 5, 20)\n",
    "clf = GridSearchCV(estimator=dwd, param_grid=dict(C=C_vals), cv=5,\n",
    "                   n_jobs=-1, return_train_score=True)\n",
    "clf.fit(X, y)"
   ]
  },
  {
   "cell_type": "markdown",
   "metadata": {},
   "source": [
    "# generalized DWD\n",
    "\n",
    "Notice the tuning parameter, C, is now lambda and we have another tuning parameter, q."
   ]
  },
  {
   "cell_type": "code",
   "execution_count": 4,
   "metadata": {},
   "outputs": [
    {
     "name": "stdout",
     "output_type": "stream",
     "text": [
      "training accuracy: 0.92\n"
     ]
    }
   ],
   "source": [
    "from dwd import GenDWD\n",
    "dwd = GenDWD(lambd=.1, q=2).fit(X, y)\n",
    "\n",
    "print('training accuracy:', dwd.score(X, y))"
   ]
  },
  {
   "cell_type": "markdown",
   "metadata": {},
   "source": [
    "### Faster cross-validation\n",
    "\n",
    "By organizing the computation delicately we can compute the full cross-validation grid serach much more efficiently."
   ]
  },
  {
   "cell_type": "code",
   "execution_count": 5,
   "metadata": {},
   "outputs": [
    {
     "name": "stdout",
     "output_type": "stream",
     "text": [
      "training accuracy: 0.89\n"
     ]
    }
   ],
   "source": [
    "from dwd import GenDWDCV\n",
    "\n",
    "dwd_cv = GenDWDCV(lambd_vals=np.logspace(-2, 2, 3),\n",
    "                  q_vals=np.logspace(-2, 2, 2),\n",
    "                  cv=5, scoring='roc_auc')\n",
    "\n",
    "dwd_cv.fit(X, y)\n",
    "\n",
    "print('training accuracy:', dwd_cv.score(X, y))"
   ]
  },
  {
   "cell_type": "markdown",
   "metadata": {},
   "source": [
    "# Kernel gDWD"
   ]
  },
  {
   "cell_type": "code",
   "execution_count": 6,
   "metadata": {},
   "outputs": [
    {
     "name": "stdout",
     "output_type": "stream",
     "text": [
      "training accuracy: 0.99\n"
     ]
    }
   ],
   "source": [
    "from dwd import KernGDWD\n",
    "kdwd = KernGDWD(lambd=1.0, q=1.0,\n",
    "                kernel='rbf', kernel_kws={'gamma': .1}).fit(X, y)\n",
    "kdwd.fit(X, y)\n",
    "\n",
    "print('training accuracy:', kdwd.score(X, y))"
   ]
  },
  {
   "cell_type": "code",
   "execution_count": 7,
   "metadata": {},
   "outputs": [
    {
     "name": "stdout",
     "output_type": "stream",
     "text": [
      "training accuracy: 0.89\n"
     ]
    }
   ],
   "source": [
    "from dwd import KernGDWDCV\n",
    "\n",
    "kdwd = KernGDWDCV(lambd_vals=np.logspace(-2, 2, 3),\n",
    "                  q_vals=np.logspace(-2, 2, 2),\n",
    "                  kernel='rbf',\n",
    "                  kernel_kws_vals=[{'gamma': 1,\n",
    "                                  'gamma': 2}]).fit(X, y)\n",
    "kdwd.fit(X, y)\n",
    "\n",
    "print('training accuracy:', kdwd.score(X, y))"
   ]
  },
  {
   "cell_type": "markdown",
   "metadata": {},
   "source": [
    "# Don't want to deal with sklearn API?\n",
    "\n",
    "Don't worry we have a functional interface if you don't want to deal with the sklearn overhead."
   ]
  },
  {
   "cell_type": "code",
   "execution_count": 10,
   "metadata": {},
   "outputs": [
    {
     "data": {
      "text/plain": [
       "Text(0, 0.5, 'objective function')"
      ]
     },
     "execution_count": 10,
     "metadata": {},
     "output_type": "execute_result"
    },
    {
     "data": {
      "image/png": "[encoded data removed]",
      "text/plain": [
       "<Figure size 432x288 with 1 Axes>"
      ]
     },
     "metadata": {
      "needs_background": "light"
     },
     "output_type": "display_data"
    }
   ],
   "source": [
    "from wdwd.gen_dwd import solve_gen_dwd\n",
    "alpha, offset, obj_vals, c = solve_gen_dwd(X=X, y=y, lambd=.1)\n",
    "\n",
    "import matplotlib.pyplot as plt\n",
    "%matplotlib inline\n",
    "plt.plot(obj_vals)\n",
    "plt.xlabel('iteration')\n",
    "plt.ylabel('objective function')"
   ]
  },
  {
   "cell_type": "markdown",
   "metadata": {},
   "source": [
    "# Multi-label classification\n",
    "\n",
    "\n",
    "Currently multi-label classification is handeled with the one-vs-one or one-vs-rest strategy."
   ]
  },
  {
   "cell_type": "code",
   "execution_count": 17,
   "metadata": {},
   "outputs": [
    {
     "name": "stdout",
     "output_type": "stream",
     "text": [
      "3\n",
      "training accuracy: 0.95\n"
     ]
    }
   ],
   "source": [
    "from sklearn.multiclass import OneVsRestClassifier\n",
    "X, y = make_blobs(n_samples=100, n_features=20) # this makes 3 classes\n",
    "print(len(set(y)))\n",
    "\n",
    "\n",
    "clf = OneVsRestClassifier(GenDWD(lambd=.1)).fit(X, y)\n",
    "\n",
    "print('training accuracy:', clf.score(X, y))"
   ]
  }
 ],
 "metadata": {
  "kernelspec": {
   "display_name": "Python [conda env:mv_gmm] *",
   "language": "python",
   "name": "conda-env-mv_gmm-py"
  },
  "language_info": {
   "codemirror_mode": {
    "name": "ipython",
    "version": 3
   },
   "file_extension": ".py",
   "mimetype": "text/x-python",
   "name": "python",
   "nbconvert_exporter": "python",
   "pygments_lexer": "ipython3",
   "version": "3.7.4"
  }
 },
 "nbformat": 4,
 "nbformat_minor": 2
}